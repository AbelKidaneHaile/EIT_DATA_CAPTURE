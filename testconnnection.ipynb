{
 "cells": [
  {
   "cell_type": "markdown",
   "id": "559bd5ba",
   "metadata": {},
   "source": [
    "#### Simple snippet code to test the UART connection with the FPGA"
   ]
  },
  {
   "cell_type": "code",
   "execution_count": 18,
   "id": "141fa700",
   "metadata": {},
   "outputs": [],
   "source": [
    "import serial\n",
    "import time"
   ]
  },
  {
   "cell_type": "code",
   "execution_count": 27,
   "id": "b6a46bc4",
   "metadata": {},
   "outputs": [],
   "source": [
    "# Configure UART port and parameters\n",
    "uart_port = 'COM3'  \n",
    "baud_rate = 2_000_000  \n",
    "no_bytes = 3712"
   ]
  },
  {
   "cell_type": "code",
   "execution_count": 28,
   "id": "0b7ef710",
   "metadata": {},
   "outputs": [
    {
     "name": "stdout",
     "output_type": "stream",
     "text": [
      "Sent: 'U'\n",
      "b'\\x08D\\x03\\x1f\\x00\\x05c\\x03%\\x00\\x050\\x03%\\x00\\x05=\\x03\\x19\\x00\\x05\\n\\x03*\\x00\\x05L\\x03\\x11\\x00\\x07,\\x03\\x02\\x00\\x07W\\x02r\\x00'\n"
     ]
    }
   ],
   "source": [
    "try:\n",
    "    with serial.Serial(uart_port, baud_rate, timeout=0.8) as ser:\n",
    "        time.sleep(1)\n",
    "        ser.write(b'U')\n",
    "        print(\"Sent: 'U'\")\n",
    "        received = ser.read(no_bytes)\n",
    "        if received:\n",
    "            print(received)\n",
    "        else:\n",
    "            print(\"No data received.\")\n",
    "except serial.SerialException as e:\n",
    "    print(f\"Serial error: {e}\")"
   ]
  },
  {
   "cell_type": "code",
   "execution_count": null,
   "id": "0a867f4b",
   "metadata": {},
   "outputs": [],
   "source": []
  },
  {
   "cell_type": "code",
   "execution_count": null,
   "id": "85d322dd",
   "metadata": {},
   "outputs": [],
   "source": []
  },
  {
   "cell_type": "markdown",
   "id": "e10ffa76",
   "metadata": {},
   "source": []
  }
 ],
 "metadata": {
  "kernelspec": {
   "display_name": "eit",
   "language": "python",
   "name": "python3"
  },
  "language_info": {
   "codemirror_mode": {
    "name": "ipython",
    "version": 3
   },
   "file_extension": ".py",
   "mimetype": "text/x-python",
   "name": "python",
   "nbconvert_exporter": "python",
   "pygments_lexer": "ipython3",
   "version": "3.10.14"
  }
 },
 "nbformat": 4,
 "nbformat_minor": 5
}
