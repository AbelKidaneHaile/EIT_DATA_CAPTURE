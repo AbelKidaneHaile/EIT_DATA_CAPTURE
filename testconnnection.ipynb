{
 "cells": [
  {
   "cell_type": "markdown",
   "id": "559bd5ba",
   "metadata": {},
   "source": [
    "#### Simple snippet code to test the UART connection with the FPGA"
   ]
  },
  {
   "cell_type": "code",
   "execution_count": 16,
   "id": "141fa700",
   "metadata": {},
   "outputs": [],
   "source": [
    "import serial\n",
    "import time\n",
    "import numpy as np\n",
    "import src\n",
    "import pandas as pd\n",
    "from tqdm import tqdm"
   ]
  },
  {
   "cell_type": "code",
   "execution_count": 13,
   "id": "b6a46bc4",
   "metadata": {},
   "outputs": [],
   "source": [
    "# Configure UART port and parameters\n",
    "serial_port= uart_port = 'COM3'  \n",
    "baud_rate = 2_000_000  \n",
    "no_bytes = 1000"
   ]
  },
  {
   "cell_type": "markdown",
   "id": "431dbefe",
   "metadata": {},
   "source": [
    "#### random tests"
   ]
  },
  {
   "cell_type": "code",
   "execution_count": 3,
   "id": "0b7ef710",
   "metadata": {},
   "outputs": [
    {
     "name": "stdout",
     "output_type": "stream",
     "text": [
      "Sent: 'U'\n",
      "b'\\x17\\x0e(v\\x03\\t&~\\x03J\\',\\x053%T\\x1d+\\x1b3\\'T!\\x7f\\x10\\x1b#\\x19\\x06,!>\\x1dh(\\x0e\\x13B1^\\x1dK2\\x06\\x03T1q\\x18X)[\\x1f2/\\x04\\x13N.{\\n\\x130\\x01\\x14\\x7f)\\x00?g.&\\x12a.4\\x10A-q\\x1235\\x17\\x0ep?\\n\\x180?|\\x0bI?f\\r_ V\\x01R&\\x19\\x19N&n\\x11\\\\&o\\x10\\x17.\\x06\\x0f\\x123S\\x17K4?\\x1eM42\\x14\\x7f=\\x00?y?|\\x11\\x1d?y\\x0e\\x1b?|\\ts \\x16\\x02\"&\\x18\\x14)&Q\\x0fj&.\\x13w4_\"\\x1b<W\\x1d,>\\x19\\x137>\\x01\\x1a\\x194j\\x19H:\\x0c\\x1dK:o*B:N\\t~#j\\t\\x03\\'d\\x1dY(\\x1a\\x180\\'o\\x1b-)G\";1[)=2R9B2B\\x1f\\x15!i\\x1d[)\\x10%y)6\\x0b\\x1e)U\\x1d\\x17?{\\t\\x19?m\\nf?z\\x0ft?~\\x08d \\t\\x0cA#>\\x18~#P\\x07]#<\\x15\\x7f!N?F&C\\x1eY&]\\x1cJ\\'\\r8\\x7f+Q?>1f\\x1d%1K\\x14p1/\\x17\\x1c*\\x1a\\x04~0K/\\x1b1;\\x17p1V\\x11\\x7f7*?z=-\\x1e)>\\x0b%B>\\t\\x10t\\'\\x19\\x0bd-e&u.x#V.S\\x17\\x7f/\\x0c?T68\\x05s6b\\x07,6j\\tF\"\\x06\\x07\\x1a&\\x1f!\\x03&]!\\x06&a\\x15\\x1a!09B%C\\x1f\\x08%S\\x194&\\x12\\x15\\x17;\\x0c\\x10D?}!|?\\x7f\\x15\\x17?\\x7f\\x07\\x1d2s4U8\\x1a\\x1bW9X G91\\x0cd6l\\t/<6\\x13\\x1e=\\x0c\\x10p=0\\x1c[)\\x18\\x16r._/=/\\x13;\"/B\\x15\\x16!!\\x18}&\"\\x1ax\\'\\x04\\ns\\'e\\x04[>\\x06<[?~\\x1c/?\\x7f\\x14\\x07?s)/ \\x1f \\x0e$O\\x156%u\\x12\\x07&='\n"
     ]
    }
   ],
   "source": [
    "try:\n",
    "    with serial.Serial(uart_port, baud_rate, timeout=0.8) as ser:\n",
    "        time.sleep(1)\n",
    "        ser.write(b'U')\n",
    "        print(\"Sent: 'U'\")\n",
    "        received = ser.read(no_bytes)\n",
    "        if received:\n",
    "            print(received)\n",
    "        else:\n",
    "            print(\"No data received.\")\n",
    "except serial.SerialException as e:\n",
    "    print(f\"Serial error: {e}\")"
   ]
  },
  {
   "cell_type": "code",
   "execution_count": 4,
   "id": "0a867f4b",
   "metadata": {},
   "outputs": [
    {
     "data": {
      "text/plain": [
       "bytes"
      ]
     },
     "execution_count": 4,
     "metadata": {},
     "output_type": "execute_result"
    }
   ],
   "source": [
    "type(received)"
   ]
  },
  {
   "cell_type": "code",
   "execution_count": 5,
   "id": "56ecd67c",
   "metadata": {},
   "outputs": [
    {
     "data": {
      "text/plain": [
       "14"
      ]
     },
     "execution_count": 5,
     "metadata": {},
     "output_type": "execute_result"
    }
   ],
   "source": [
    "received[1]"
   ]
  },
  {
   "cell_type": "code",
   "execution_count": 6,
   "id": "4f732af3",
   "metadata": {},
   "outputs": [
    {
     "data": {
      "text/plain": [
       "int"
      ]
     },
     "execution_count": 6,
     "metadata": {},
     "output_type": "execute_result"
    }
   ],
   "source": [
    "type(received[0])"
   ]
  },
  {
   "cell_type": "code",
   "execution_count": 7,
   "id": "85d322dd",
   "metadata": {},
   "outputs": [],
   "source": [
    "data = np.frombuffer(received, dtype=np.uint8)"
   ]
  },
  {
   "cell_type": "code",
   "execution_count": 55,
   "id": "4881b401",
   "metadata": {},
   "outputs": [
    {
     "data": {
      "text/plain": [
       "np.uint8(142)"
      ]
     },
     "execution_count": 55,
     "metadata": {},
     "output_type": "execute_result"
    }
   ],
   "source": [
    "val_A = (data[2] << 7) + data[3]\n",
    "val_A"
   ]
  },
  {
   "cell_type": "code",
   "execution_count": 46,
   "id": "30303641",
   "metadata": {},
   "outputs": [
    {
     "data": {
      "text/plain": [
       "numpy.float64"
      ]
     },
     "execution_count": 46,
     "metadata": {},
     "output_type": "execute_result"
    }
   ],
   "source": [
    "type(val_A*0.0001220852155)"
   ]
  },
  {
   "cell_type": "code",
   "execution_count": null,
   "id": "3756fb6e",
   "metadata": {},
   "outputs": [],
   "source": [
    "def adc_to_voltage(adc_data, vref=1.0):\n",
    "    adc_max = (2 ** 14) - 1  # 16383 for 14-bit\n",
    "    return (adc_data.astype(np.float64) / adc_max) * vref"
   ]
  },
  {
   "cell_type": "markdown",
   "id": "2ea15e12",
   "metadata": {},
   "source": [
    "### capture frames continously"
   ]
  },
  {
   "cell_type": "code",
   "execution_count": null,
   "id": "e3704ad4",
   "metadata": {},
   "outputs": [],
   "source": [
    "for i in tqdm(range())\n",
    "    df = src.read_frame_opp(serial_port, no_bytes, baud_rate=2_000_000, timeout=1)\n",
    "    \n",
    "    \n",
    "    \n",
    "    \n",
    "    # Show using OpenCV\n",
    "    cv2.imshow(\"Plot - Channel A and B\", img)\n",
    "    cv2.waitKey(0)\n",
    "    cv2.destroyAllWindows()"
   ]
  },
  {
   "cell_type": "code",
   "execution_count": 56,
   "id": "e2bac6f9",
   "metadata": {},
   "outputs": [
    {
     "data": {
      "text/plain": [
       "0.004056338028169014"
      ]
     },
     "execution_count": 56,
     "metadata": {},
     "output_type": "execute_result"
    }
   ],
   "source": [
    "0.576/(142)"
   ]
  }
 ],
 "metadata": {
  "kernelspec": {
   "display_name": "eit",
   "language": "python",
   "name": "python3"
  },
  "language_info": {
   "codemirror_mode": {
    "name": "ipython",
    "version": 3
   },
   "file_extension": ".py",
   "mimetype": "text/x-python",
   "name": "python",
   "nbconvert_exporter": "python",
   "pygments_lexer": "ipython3",
   "version": "3.10.14"
  }
 },
 "nbformat": 4,
 "nbformat_minor": 5
}
